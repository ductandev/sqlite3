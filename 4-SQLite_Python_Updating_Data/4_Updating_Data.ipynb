{
 "cells": [
  {
   "cell_type": "markdown",
   "id": "3635d644-7e49-4edf-b32c-58c11eff6c99",
   "metadata": {},
   "source": [
    "# SQLite Python: Updating Data"
   ]
  },
  {
   "cell_type": "code",
   "execution_count": 1,
   "id": "398eb577-11df-4077-8db7-a9ce834905d1",
   "metadata": {},
   "outputs": [],
   "source": [
    "import sqlite3\n",
    "from sqlite3 import Error"
   ]
  },
  {
   "cell_type": "code",
   "execution_count": 2,
   "id": "d64eded5-6e56-4fe1-b40a-51c9c336472c",
   "metadata": {},
   "outputs": [],
   "source": [
    "def create_connection(db_file):\n",
    "    \"\"\" create a database connection to the SQLite database\n",
    "        specified by the db_file\n",
    "    :param db_file: database file\n",
    "    :return: Connection object or None\n",
    "    \"\"\"\n",
    "    conn = None\n",
    "    try:\n",
    "        conn = sqlite3.connect(db_file)\n",
    "    except Error as e:\n",
    "        print(e)\n",
    "\n",
    "    return conn"
   ]
  },
  {
   "cell_type": "code",
   "execution_count": 3,
   "id": "72cbe7d4-5577-4dc7-99fe-95d0bcd8c9db",
   "metadata": {},
   "outputs": [],
   "source": [
    "def update_task(conn, task):\n",
    "    \"\"\"\n",
    "    update priority, begin_date, and end date of a task\n",
    "    :param conn:\n",
    "    :param task:\n",
    "    :return: project id\n",
    "    \"\"\"\n",
    "    sql = ''' UPDATE tasks\n",
    "              SET priority = ? ,\n",
    "                  begin_date = ? ,\n",
    "                  end_date = ?\n",
    "              WHERE id = ?'''\n",
    "    cur = conn.cursor()\n",
    "    cur.execute(sql, task)\n",
    "    conn.commit()"
   ]
  },
  {
   "cell_type": "code",
   "execution_count": 4,
   "id": "382cb078-151d-4d42-9773-1ce4eb68117e",
   "metadata": {},
   "outputs": [],
   "source": [
    "def main():\n",
    "    database = r\"../pythonsqlite.db\"\n",
    "\n",
    "    # create a database connection\n",
    "    conn = create_connection(database)\n",
    "    with conn:\n",
    "        update_task(conn, (2, '2015-01-04', '2015-01-06', 2))"
   ]
  },
  {
   "cell_type": "code",
   "execution_count": 5,
   "id": "df82076a-b923-46c4-9aa2-9eee102d7336",
   "metadata": {},
   "outputs": [],
   "source": [
    "if __name__ == '__main__':\n",
    "    main()"
   ]
  },
  {
   "cell_type": "code",
   "execution_count": null,
   "id": "d82ce80e-0db9-4b9a-8a75-fc80bbaf4c98",
   "metadata": {},
   "outputs": [],
   "source": []
  }
 ],
 "metadata": {
  "kernelspec": {
   "display_name": "Python 3 (ipykernel)",
   "language": "python",
   "name": "python3"
  },
  "language_info": {
   "codemirror_mode": {
    "name": "ipython",
    "version": 3
   },
   "file_extension": ".py",
   "mimetype": "text/x-python",
   "name": "python",
   "nbconvert_exporter": "python",
   "pygments_lexer": "ipython3",
   "version": "3.9.6"
  }
 },
 "nbformat": 4,
 "nbformat_minor": 5
}
