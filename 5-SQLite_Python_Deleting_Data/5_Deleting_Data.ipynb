{
 "cells": [
  {
   "cell_type": "markdown",
   "id": "851d89d4-9451-45b9-b50b-5229c397d37e",
   "metadata": {},
   "source": [
    "# SQLite Python: Deleting Data"
   ]
  },
  {
   "cell_type": "code",
   "execution_count": 1,
   "id": "c7c29a64-b318-4994-90c8-ea1cc4388ea2",
   "metadata": {},
   "outputs": [],
   "source": [
    "import sqlite3\n",
    "from sqlite3 import Error"
   ]
  },
  {
   "cell_type": "code",
   "execution_count": 2,
   "id": "3d149bfc-b383-4623-831f-bddf5e0374a0",
   "metadata": {},
   "outputs": [],
   "source": [
    "def create_connection(db_file):\n",
    "    \"\"\" create a database connection to the SQLite database\n",
    "        specified by the db_file\n",
    "    :param db_file: database file\n",
    "    :return: Connection object or None\n",
    "    \"\"\"\n",
    "    conn = None\n",
    "    try:\n",
    "        conn = sqlite3.connect(db_file)\n",
    "    except Error as e:\n",
    "        print(e)\n",
    "\n",
    "    return conn"
   ]
  },
  {
   "cell_type": "code",
   "execution_count": 3,
   "id": "1f907404-fb1a-43eb-9b69-812954ecec0b",
   "metadata": {},
   "outputs": [],
   "source": [
    "def delete_task(conn, id):\n",
    "    \"\"\"\n",
    "    Delete a task by task id\n",
    "    :param conn:  Connection to the SQLite database\n",
    "    :param id: id of the task\n",
    "    :return:\n",
    "    \"\"\"\n",
    "    sql = 'DELETE FROM tasks WHERE id=?'\n",
    "    cur = conn.cursor()\n",
    "    cur.execute(sql, (id,))\n",
    "    conn.commit()"
   ]
  },
  {
   "cell_type": "code",
   "execution_count": 4,
   "id": "f9560280-44e6-4bf4-bc17-f90b8ade957f",
   "metadata": {},
   "outputs": [],
   "source": [
    "def delete_all_tasks(conn):\n",
    "    \"\"\"\n",
    "    Delete all rows in the tasks table\n",
    "    :param conn: Connection to the SQLite database\n",
    "    :return:\n",
    "    \"\"\"\n",
    "    sql = 'DELETE FROM tasks'\n",
    "    cur = conn.cursor()\n",
    "    cur.execute(sql)\n",
    "    conn.commit()"
   ]
  },
  {
   "cell_type": "code",
   "execution_count": 5,
   "id": "d039fb87-5c50-4eeb-8b2e-3bb779faeb6b",
   "metadata": {},
   "outputs": [],
   "source": [
    "def main():\n",
    "    database = r\"../pythonsqlite.db\"\n",
    "\n",
    "    # create a database connection\n",
    "    conn = create_connection(database)\n",
    "    with conn:\n",
    "        delete_task(conn, 2);\n",
    "        # delete_all_tasks(conn);"
   ]
  },
  {
   "cell_type": "code",
   "execution_count": 6,
   "id": "8c45b2d0-f05f-41f6-ad68-334445737e7b",
   "metadata": {},
   "outputs": [],
   "source": [
    "if __name__ == '__main__':\n",
    "    main()"
   ]
  },
  {
   "cell_type": "code",
   "execution_count": null,
   "id": "e18488a8-6d64-4494-97e5-ee411c82ce8e",
   "metadata": {},
   "outputs": [],
   "source": []
  }
 ],
 "metadata": {
  "kernelspec": {
   "display_name": "Python 3 (ipykernel)",
   "language": "python",
   "name": "python3"
  },
  "language_info": {
   "codemirror_mode": {
    "name": "ipython",
    "version": 3
   },
   "file_extension": ".py",
   "mimetype": "text/x-python",
   "name": "python",
   "nbconvert_exporter": "python",
   "pygments_lexer": "ipython3",
   "version": "3.9.6"
  }
 },
 "nbformat": 4,
 "nbformat_minor": 5
}
