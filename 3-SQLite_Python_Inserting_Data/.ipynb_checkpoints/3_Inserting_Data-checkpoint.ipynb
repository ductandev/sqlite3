{
 "cells": [
  {
   "cell_type": "markdown",
   "id": "7b242eb5-fd08-4774-b522-270e79ab6fa0",
   "metadata": {},
   "source": [
    "# SQLite Python: Inserting Data"
   ]
  },
  {
   "cell_type": "code",
   "execution_count": 1,
   "id": "77badb0c-b58a-4b1c-bbd1-0a3bab42bfe0",
   "metadata": {},
   "outputs": [],
   "source": [
    "import sqlite3\n",
    "from sqlite3 import Error"
   ]
  },
  {
   "cell_type": "code",
   "execution_count": 2,
   "id": "e4f64f0f-56ff-4d86-a175-5ff390fb56fb",
   "metadata": {},
   "outputs": [],
   "source": [
    "def create_connection(db_file):\n",
    "    \"\"\" create a database connection to the SQLite database\n",
    "        specified by db_file\n",
    "    :param db_file: database file\n",
    "    :return: Connection object or None\n",
    "    \"\"\"\n",
    "    conn = None\n",
    "    try:\n",
    "        conn = sqlite3.connect(db_file)\n",
    "    except Error as e:\n",
    "        print(e)\n",
    "\n",
    "    return conn"
   ]
  },
  {
   "cell_type": "code",
   "execution_count": 3,
   "id": "b9cdcf86-ac0e-4a71-ae20-5e81c878631a",
   "metadata": {},
   "outputs": [],
   "source": [
    "def create_project(conn, project):\n",
    "    \"\"\"\n",
    "    Create a new project into the projects table\n",
    "    :param conn:\n",
    "    :param project:\n",
    "    :return: project id\n",
    "    \"\"\"\n",
    "    sql = ''' INSERT INTO projects(name,begin_date,end_date)\n",
    "              VALUES(?,?,?) '''\n",
    "    cur = conn.cursor()\n",
    "    cur.execute(sql, project)\n",
    "    conn.commit()\n",
    "    return cur.lastrowid"
   ]
  },
  {
   "cell_type": "code",
   "execution_count": 4,
   "id": "7bfbf09b-d6c2-48c9-adc9-f961766f7fa4",
   "metadata": {},
   "outputs": [],
   "source": [
    "def create_task(conn, task):\n",
    "    \"\"\"\n",
    "    Create a new task\n",
    "    :param conn:\n",
    "    :param task:\n",
    "    :return:\n",
    "    \"\"\"\n",
    "\n",
    "    sql = ''' INSERT INTO tasks(name,priority,status_id,project_id,begin_date,end_date)\n",
    "              VALUES(?,?,?,?,?,?) '''\n",
    "    cur = conn.cursor()\n",
    "    cur.execute(sql, task)\n",
    "    conn.commit()\n",
    "    return cur.lastrowid"
   ]
  },
  {
   "cell_type": "code",
   "execution_count": 5,
   "id": "62333ab3-e20e-48db-b539-bf0b7c9e31e7",
   "metadata": {},
   "outputs": [],
   "source": [
    "def main():\n",
    "    database = r\"../pythonsqlite.db\"\n",
    "\n",
    "    # create a database connection\n",
    "    conn = create_connection(database)\n",
    "    with conn:\n",
    "        # create a new project\n",
    "        project = ('Cool App with SQLite & Python', '2015-01-01', '2015-01-30');\n",
    "        project_id = create_project(conn, project)\n",
    "\n",
    "        # tasks\n",
    "        task_1 = ('Analyze the requirements of the app', 1, 1, project_id, '2015-01-01', '2015-01-02')\n",
    "        task_2 = ('Confirm with user about the top requirements', 1, 1, project_id, '2015-01-03', '2015-01-05')\n",
    "\n",
    "        # create tasks\n",
    "        create_task(conn, task_1)\n",
    "        create_task(conn, task_2)"
   ]
  },
  {
   "cell_type": "code",
   "execution_count": 6,
   "id": "d63808f9-a48b-4741-b23e-5de65e55b59b",
   "metadata": {},
   "outputs": [],
   "source": [
    "if __name__ == '__main__':\n",
    "    main()"
   ]
  },
  {
   "cell_type": "code",
   "execution_count": null,
   "id": "a4c15408-6011-4a43-b605-e518792c3c9b",
   "metadata": {},
   "outputs": [],
   "source": []
  }
 ],
 "metadata": {
  "kernelspec": {
   "display_name": "Python 3 (ipykernel)",
   "language": "python",
   "name": "python3"
  },
  "language_info": {
   "codemirror_mode": {
    "name": "ipython",
    "version": 3
   },
   "file_extension": ".py",
   "mimetype": "text/x-python",
   "name": "python",
   "nbconvert_exporter": "python",
   "pygments_lexer": "ipython3",
   "version": "3.8.10"
  }
 },
 "nbformat": 4,
 "nbformat_minor": 5
}
