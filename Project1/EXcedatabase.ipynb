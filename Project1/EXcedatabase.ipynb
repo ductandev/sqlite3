{
 "cells": [
  {
   "cell_type": "markdown",
   "id": "365c2316-f2a9-4ddb-a698-9e1300880fa4",
   "metadata": {},
   "source": [
    "# Test READ"
   ]
  },
  {
   "cell_type": "code",
   "execution_count": 1,
   "id": "9aa2db11-72a4-4c1d-955b-8848e239d1f0",
   "metadata": {},
   "outputs": [],
   "source": [
    "import sqlite3\n",
    "from sqlite3 import Error"
   ]
  },
  {
   "cell_type": "code",
   "execution_count": 2,
   "id": "759f0085-c3d0-499e-8eac-fd9d692a66fb",
   "metadata": {},
   "outputs": [],
   "source": [
    "def create_connection(db_file):\n",
    "    conn = None\n",
    "    try:\n",
    "        conn = sqlite3.connect(db_file)\n",
    "        return  conn\n",
    "    except Error as e:\n",
    "        print(e)\n",
    "    return conn"
   ]
  },
  {
   "cell_type": "code",
   "execution_count": 3,
   "id": "5f8eff5c-f34c-4f10-ad91-4d0297aaed6c",
   "metadata": {},
   "outputs": [],
   "source": [
    "def select_aliasID(conn, data):\n",
    "\n",
    "    cur = conn.cursor()\n",
    "    cur.execute(\"SELECT * FROM datahanet WHERE aliasID=?\", (data,))\n",
    "\n",
    "    rows = cur.fetchall()\n",
    "    return rows\n",
    " \n",
    "    \n",
    "def select_personID(conn, data):\n",
    "\n",
    "    cur = conn.cursor()\n",
    "    cur.execute(\"SELECT * FROM datahanet WHERE personID=?\", (data,))\n",
    "\n",
    "    rows = cur.fetchall()\n",
    "    return rows"
   ]
  },
  {
   "cell_type": "code",
   "execution_count": 7,
   "id": "e54dd013-3455-4693-836f-179f4abda9b2",
   "metadata": {},
   "outputs": [
    {
     "name": "stdout",
     "output_type": "stream",
     "text": [
      "1. Query task by aliasID:\n",
      "https://static.hanet.ai/face/employee/7875/a83b6be9-3d90-4425-8b99-b1b6c78a7648.jpg\n",
      "1. Query task by personID:\n",
      "https://static.hanet.ai/face/employee/7875/a83b6be9-3d90-4425-8b99-b1b6c78a7648.jpg\n"
     ]
    }
   ],
   "source": [
    "path_database = r\"pythondatabase.db\"\n",
    "conn = create_connection(path_database)\n",
    "with conn:\n",
    "    print(\"1. Query task by aliasID:\")\n",
    "    for row in select_aliasID(conn, str(8021)):\n",
    "        print(row[2]) \n",
    "    print(\"1. Query task by personID:\")\n",
    "    for row in select_personID(conn, str(2056962459106680824)):\n",
    "        print(row[2])"
   ]
  },
  {
   "cell_type": "code",
   "execution_count": 4,
   "id": "ef7dd378-5dee-4613-9da5-f8b347434625",
   "metadata": {},
   "outputs": [
    {
     "name": "stdout",
     "output_type": "stream",
     "text": [
      "1. Query task by aliasID:\n",
      "https://static.hanet.ai/face/employee/7875/a83b6be9-3d90-4425-8b99-b1b6c78a7648.jpg\n"
     ]
    }
   ],
   "source": [
    "path_database = r\"pythondatabase.db\"\n",
    "conn = create_connection(path_database)\n"
   ]
  },
  {
   "cell_type": "code",
   "execution_count": 8,
   "id": "bd32a0dd-c3ce-433b-884a-010bdbe8694c",
   "metadata": {},
   "outputs": [
    {
     "name": "stdout",
     "output_type": "stream",
     "text": [
      "1. Query task by aliasID:\n"
     ]
    }
   ],
   "source": [
    "print(\"1. Query task by aliasID:\")\n",
    "for row in select_aliasID(conn, str(8025)):\n",
    "    print(row[1]) "
   ]
  },
  {
   "cell_type": "markdown",
   "id": "f825ec74-7fe3-4732-88f5-8e9273f83b76",
   "metadata": {},
   "source": [
    "# Write API data to SQLite:"
   ]
  },
  {
   "cell_type": "code",
   "execution_count": 2,
   "id": "7a539544-8ce1-4676-8e4e-bc93ff4dbba2",
   "metadata": {},
   "outputs": [],
   "source": [
    "from json  import dumps, dump, load \n",
    "from requests import  post"
   ]
  },
  {
   "cell_type": "code",
   "execution_count": 3,
   "id": "242e0ba0-9c52-48cd-b57e-96213c8221c6",
   "metadata": {},
   "outputs": [],
   "source": [
    "urlqw = \"https://gateway.systemkul.com/api/Gateway/GetListPeopleByUnit\"\n",
    "string_post = \"66540EEE-61D6-48E2-B9B6-61BA0228B0FD\"\n",
    "string_unitCode = \"nguyenvancu\"\n",
    "\n",
    "string_infor = { \\\n",
    "    \"requestKey\": string_post, \\\n",
    "    \"unitCode\": string_unitCode \\\n",
    "    }"
   ]
  },
  {
   "cell_type": "code",
   "execution_count": 4,
   "id": "73b3d3a3-f858-4f0a-95d6-28b1c7bcf201",
   "metadata": {},
   "outputs": [
    {
     "data": {
      "text/plain": [
       "[{'aliasID': '9021',\n",
       "  'name': '9021',\n",
       "  'avatar': 'https://static.hanet.ai/face/employee/7875/a83b6be9-3d90-4425-8b99-b1b6c78a7648.jpg',\n",
       "  'title': '9021',\n",
       "  'personID': '2056962459106680832'},\n",
       " {'aliasID': '90210',\n",
       "  'name': '90210',\n",
       "  'avatar': 'https://static.hanet.ai/face/employee/7875/396d1f3d-d27c-494a-8f78-09ec84a679b2.jpg',\n",
       "  'title': '90210',\n",
       "  'personID': '2056962504729649152'}]"
      ]
     },
     "execution_count": 4,
     "metadata": {},
     "output_type": "execute_result"
    }
   ],
   "source": [
    "r = post(urlqw,\\\n",
    "         data=dumps(string_infor),\\\n",
    "         headers={'Content-Type': 'application/json-patch+json', })\n",
    "data1 = r.json()\n",
    "data1[:2]"
   ]
  },
  {
   "cell_type": "code",
   "execution_count": 5,
   "id": "512f4515-5cbc-43a7-8fcf-f5e41e0fc294",
   "metadata": {},
   "outputs": [],
   "source": [
    "def create_connection(db_file):\n",
    "    conn = None\n",
    "    try:\n",
    "        conn = sqlite3.connect(db_file)\n",
    "        return  conn\n",
    "    except Error as e:\n",
    "        print(e)\n",
    "    return conn"
   ]
  },
  {
   "cell_type": "code",
   "execution_count": 6,
   "id": "d552bdb1-3dc6-46b0-b60b-26ec02fbaf2e",
   "metadata": {},
   "outputs": [],
   "source": [
    "def create_table(conn, create_table_sql):\n",
    "    try:\n",
    "        c = conn.cursor()\n",
    "        c.execute(create_table_sql)\n",
    "    except Error as e:\n",
    "        print(e)"
   ]
  },
  {
   "cell_type": "code",
   "execution_count": 7,
   "id": "8267a08b-2fc2-4864-9377-93931904cb5d",
   "metadata": {},
   "outputs": [],
   "source": [
    "#['aliasID', 'name', 'avatar', 'title', 'personID']\n",
    "def create_project(conn, data):\n",
    "    sql = ''' INSERT INTO datahanet (aliasID,name,avatar,title,personID)\n",
    "              VALUES(?,?,?,?,?) '''\n",
    "    cur = conn.cursor()\n",
    "    cur.execute(sql, data)\n",
    "    conn.commit()\n",
    "    return cur.lastrowid"
   ]
  },
  {
   "cell_type": "code",
   "execution_count": 8,
   "id": "2a95db61-2a3f-44fc-923f-e4798a86a8ea",
   "metadata": {},
   "outputs": [],
   "source": [
    "# aliasID PRIMARY KEY là duy nhất.\n",
    "# PersonID NOT NULL không duy nhất. Cho phép thay đổi.\n",
    "# Các key còn lại được phép thay đổi, và null.\n",
    "sql_create_table = \"\"\"\n",
    "    CREATE TABLE IF NOT EXISTS datahanet (\n",
    "        aliasID text PRIMARY KEY,\n",
    "        name text,\n",
    "        avatar text,\n",
    "        title text, \n",
    "        personID text NOT NULL\n",
    "    );\n",
    "\"\"\""
   ]
  },
  {
   "cell_type": "code",
   "execution_count": 9,
   "id": "cadb9d1f-27b3-47c6-98b9-49a1568fb206",
   "metadata": {},
   "outputs": [],
   "source": [
    "path_database = r\"1pythondatabase.db\"\n",
    "# Create a database connection\n",
    "conn = create_connection(path_database)"
   ]
  },
  {
   "cell_type": "code",
   "execution_count": 11,
   "id": "4f788591-597a-4554-9df6-0fe2c9446128",
   "metadata": {},
   "outputs": [],
   "source": [
    "if  conn is not None:\n",
    "    create_table(conn, sql_create_table)\n",
    "else:\n",
    "    print(\"Error!, cannot create the database connection.\")"
   ]
  },
  {
   "cell_type": "code",
   "execution_count": 12,
   "id": "d97e9fab-3cf2-41a3-8197-b1288881a738",
   "metadata": {},
   "outputs": [],
   "source": [
    "text_data = data1[:10]\n",
    "with conn:\n",
    "    for s in text_data:\n",
    "        project1 = (s[\"aliasID\"], s[\"name\"], s[\"avatar\"], s[\"title\"], s[\"personID\"])\n",
    "        try:\n",
    "            project_id = create_project(conn, project1)\n",
    "        except Exception as e:\n",
    "            print(e)\n",
    "            pass"
   ]
  },
  {
   "cell_type": "code",
   "execution_count": null,
   "id": "227f78c3-b4da-4bbd-a972-dd9990db64c3",
   "metadata": {},
   "outputs": [],
   "source": []
  }
 ],
 "metadata": {
  "kernelspec": {
   "display_name": "Python 3 (ipykernel)",
   "language": "python",
   "name": "python3"
  },
  "language_info": {
   "codemirror_mode": {
    "name": "ipython",
    "version": 3
   },
   "file_extension": ".py",
   "mimetype": "text/x-python",
   "name": "python",
   "nbconvert_exporter": "python",
   "pygments_lexer": "ipython3",
   "version": "3.8.10"
  }
 },
 "nbformat": 4,
 "nbformat_minor": 5
}
