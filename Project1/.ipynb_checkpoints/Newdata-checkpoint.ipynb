{
 "cells": [
  {
   "cell_type": "markdown",
   "id": "7839730d-ff8c-4f54-a464-55a86fa2103b",
   "metadata": {},
   "source": [
    "# New database on the SQLite"
   ]
  },
  {
   "cell_type": "code",
   "execution_count": 1,
   "id": "ec411312-8129-4d17-b060-4a50f60307e3",
   "metadata": {},
   "outputs": [],
   "source": [
    "import sqlite3\n",
    "from sqlite3 import Error"
   ]
  },
  {
   "cell_type": "code",
   "execution_count": 2,
   "id": "05813942-7d01-4172-9077-12ba518ce7e5",
   "metadata": {},
   "outputs": [],
   "source": [
    "def create_file(path_data):\n",
    "    conn = None\n",
    "    try:\n",
    "        conn = sqlite3.connect(path_data)\n",
    "        print(sqlite3.version)\n",
    "    except Error as e:\n",
    "        print(e)\n",
    "    finally:\n",
    "        if conn:\n",
    "            conn.close()"
   ]
  },
  {
   "cell_type": "code",
   "execution_count": 3,
   "id": "96b7e696-9bf9-47f3-9176-3aa4d25999cf",
   "metadata": {},
   "outputs": [
    {
     "name": "stdout",
     "output_type": "stream",
     "text": [
      "2.6.0\n"
     ]
    }
   ],
   "source": [
    "if __name__ == '__main__':\n",
    "    create_file(r\"pythondatabase.db\")"
   ]
  },
  {
   "cell_type": "markdown",
   "id": "13bd6522-4d85-4340-a1a3-18a40ea15d56",
   "metadata": {},
   "source": [
    "## Create connet with new database."
   ]
  },
  {
   "cell_type": "code",
   "execution_count": 4,
   "id": "894501ba-2c18-4504-9624-c4cab23f4d9d",
   "metadata": {},
   "outputs": [],
   "source": [
    "def create_connection(db_file):\n",
    "    conn = None\n",
    "    try:\n",
    "        conn = sqlite3.connect(db_file)\n",
    "        return  conn\n",
    "    except Error as e:\n",
    "        print(e)\n",
    "    return conn"
   ]
  },
  {
   "cell_type": "markdown",
   "id": "e9d1a1d2-7457-4ffd-b58f-1db71a0f6a08",
   "metadata": {},
   "source": [
    "## Create table in database file"
   ]
  },
  {
   "cell_type": "markdown",
   "id": "4d49b23b-f7d2-4573-830c-dc04baff381e",
   "metadata": {},
   "source": [
    "### - **4 column, consit of ['aliasID', 'name', 'avatar', 'title', 'personID']**\n",
    "### - **4 type: [str, str, str, str, str]**"
   ]
  },
  {
   "cell_type": "code",
   "execution_count": 5,
   "id": "d1550120-daae-4039-9548-a79e0f9d13ab",
   "metadata": {},
   "outputs": [],
   "source": [
    "def create_table(conn, create_table_sql):\n",
    "    try:\n",
    "        c = conn.cursor()\n",
    "        c.execute(create_table_sql)\n",
    "    except Error as e:\n",
    "        print(e)"
   ]
  },
  {
   "cell_type": "code",
   "execution_count": 6,
   "id": "842baae1-056b-45e5-9669-615943c7522a",
   "metadata": {},
   "outputs": [],
   "source": [
    "# aliasID PRIMARY KEY là duy nhất.\n",
    "# PersonID NOT NULL không duy nhất. Cho phép thay đổi.\n",
    "# Các key còn lại được phép thay đổi, và null.\n",
    "sql_create_table = \"\"\"\n",
    "    CREATE TABLE IF NOT EXISTS datahanet (\n",
    "        aliasID text PRIMARY KEY,\n",
    "        name text,\n",
    "        avatar text,\n",
    "        title text, \n",
    "        personID text NOT NULL\n",
    "    );\n",
    "\"\"\""
   ]
  },
  {
   "cell_type": "code",
   "execution_count": 7,
   "id": "d90ee896-5f64-4a64-99f3-82d1338c0335",
   "metadata": {},
   "outputs": [],
   "source": [
    "path_database = r\"pythondatabase.db\"\n",
    "\n",
    "# Create a database connection\n",
    "conn = create_connection(path_database)"
   ]
  },
  {
   "cell_type": "markdown",
   "id": "296cf715-693e-4345-8b3a-2d2d0d0d0c10",
   "metadata": {},
   "source": [
    "## Create a database tables"
   ]
  },
  {
   "cell_type": "code",
   "execution_count": 8,
   "id": "4d0754a6-1be8-49f7-93a3-ceaebfb1e185",
   "metadata": {},
   "outputs": [],
   "source": [
    "if  conn is not None:\n",
    "    create_table(conn, sql_create_table)\n",
    "else:\n",
    "    print(\"Error!, cannot create the database connection.\")"
   ]
  },
  {
   "cell_type": "markdown",
   "id": "cac54977-80ce-41af-bf6e-326c90662a75",
   "metadata": {},
   "source": [
    "## Insert database in table."
   ]
  },
  {
   "cell_type": "code",
   "execution_count": 9,
   "id": "21ca791e-49b6-40b2-8500-1a3a5dddc9fe",
   "metadata": {},
   "outputs": [],
   "source": [
    "#['aliasID', 'name', 'avatar', 'title', 'personID']\n",
    "def create_project(conn, data):\n",
    "    sql = ''' INSERT INTO datahanet(aliasID,name,avatar,title,personID)\n",
    "              VALUES(?,?,?,?,?) '''\n",
    "    cur = conn.cursor()\n",
    "    cur.execute(sql, data)\n",
    "    conn.commit()\n",
    "    return cur.lastrowid"
   ]
  },
  {
   "cell_type": "code",
   "execution_count": 49,
   "id": "519fe339-dca9-4a8a-b464-7d6b7cd1e2d2",
   "metadata": {},
   "outputs": [],
   "source": [
    "path_database = r\"pythondatabase.db\"\n",
    "\n",
    "# Create a database connection\n",
    "conn = create_connection(path_database)\n",
    "with conn:\n",
    "    # create a new project\n",
    "    project1 = ('9021', '9021',\\\n",
    "               'https://static.hanet.ai/face/employee/7875/a83b6be9-3d90-4425-8b99-b1b6c78a7648.jpg',\\\n",
    "               '9021', '2056962459106680832');\n",
    "    project = ('8025', '9025',\\\n",
    "               'https://static.hanet.ai/face/employee/7875/a83b6be9-3d90-4425-8b99-b1b6c78a7648.jpg',\\\n",
    "               '9021', '2056962459106680825');\n",
    "    try:\n",
    "        project_id = create_project(conn, project)\n",
    "    except Exception as e:\n",
    "        print(e)"
   ]
  },
  {
   "cell_type": "markdown",
   "id": "522e6d53-213a-4bc8-80a4-2bc265c28715",
   "metadata": {},
   "source": [
    "## Multiply insert to database:"
   ]
  },
  {
   "cell_type": "code",
   "execution_count": 11,
   "id": "4c28a7be-65b5-4522-bdf8-664690420270",
   "metadata": {},
   "outputs": [],
   "source": [
    "from json  import load "
   ]
  },
  {
   "cell_type": "code",
   "execution_count": 12,
   "id": "e33a2b2d-3a9a-42cb-adf8-e4e073b4a97e",
   "metadata": {},
   "outputs": [],
   "source": [
    "f = open(\"data3.json\", \"r\")\n",
    "data_json = load(f)\n",
    "text_data = data_json[:]\n",
    "# text_data"
   ]
  },
  {
   "cell_type": "code",
   "execution_count": 15,
   "id": "ed49cf67-77df-4071-85d1-90fece26e923",
   "metadata": {},
   "outputs": [],
   "source": [
    "path_database = r\"pythondatabase.db\"\n",
    "\n",
    "# Create a database connection\n",
    "conn = create_connection(path_database)\n",
    "with conn:\n",
    "    for s in text_data:\n",
    "        project1 = (s[\"aliasID\"], s[\"name\"], s[\"avatar\"], s[\"title\"], s[\"personID\"])\n",
    "        try:\n",
    "            project_id = create_project(conn, project1)\n",
    "        except Exception as e:\n",
    "            pass\n",
    "#             print(e)"
   ]
  },
  {
   "cell_type": "markdown",
   "id": "4cd22f0f-1c21-4a65-be7d-4b0bf4b06bf2",
   "metadata": {},
   "source": [
    "## Update database."
   ]
  },
  {
   "cell_type": "code",
   "execution_count": 25,
   "id": "a7bcd8ab-af41-4d31-a485-8b6da1d1c095",
   "metadata": {},
   "outputs": [],
   "source": [
    "dataupdate = ('9022',\\\n",
    "              'https://static.hanet.ai/face/employee/7875/a83b6be9-3d90-4425-8b99-b1b6c78a7648.jpg',\\\n",
    "              '9021',\\\n",
    "              '2056962459106680832',\\\n",
    "              '9021'\n",
    "             )"
   ]
  },
  {
   "cell_type": "code",
   "execution_count": 26,
   "id": "948928c4-5cc8-4815-9d89-ef4dfb4d7c9e",
   "metadata": {},
   "outputs": [],
   "source": [
    "def update_data(conn, data):\n",
    "    sql = ''' UPDATE datahanet\n",
    "              SET name = ? ,\n",
    "                  avatar = ? ,\n",
    "                  title = ?,\n",
    "                  personID = ?\n",
    "              WHERE aliasID = ?'''\n",
    "    cur = conn.cursor()\n",
    "    cur.execute(sql, data)\n",
    "    conn.commit()"
   ]
  },
  {
   "cell_type": "code",
   "execution_count": 27,
   "id": "0a1093c3-7d44-4a20-b1bf-ececf225cb24",
   "metadata": {},
   "outputs": [],
   "source": [
    "# create a database connection\n",
    "conn = create_connection(path_database)\n",
    "with conn:\n",
    "    update_data(conn, dataupdate)"
   ]
  },
  {
   "cell_type": "markdown",
   "id": "287fbc9b-6f01-4bf1-b8a8-df426361809a",
   "metadata": {},
   "source": [
    "## Delete database"
   ]
  },
  {
   "cell_type": "code",
   "execution_count": 36,
   "id": "bbe48600-9234-44d4-8a88-ef0fe257ee37",
   "metadata": {},
   "outputs": [],
   "source": [
    "def delete_task(conn, data):\n",
    "    sql = 'DELETE FROM datahanet WHERE aliasID=?'\n",
    "    cur = conn.cursor()\n",
    "    cur.execute(sql, (data,))\n",
    "    conn.commit()"
   ]
  },
  {
   "cell_type": "code",
   "execution_count": 38,
   "id": "671efbfa-d017-40f6-a28f-0f45ea1c8572",
   "metadata": {},
   "outputs": [],
   "source": [
    "conn = create_connection(path_database)\n",
    "with conn:\n",
    "    delete_task(conn, 8025)"
   ]
  },
  {
   "cell_type": "markdown",
   "id": "721c4075-d61a-42f2-a249-852d7f703397",
   "metadata": {},
   "source": [
    "## Read database."
   ]
  },
  {
   "cell_type": "code",
   "execution_count": 47,
   "id": "7e6d7f87-8bb4-4c83-aa28-bbc3d6ea5360",
   "metadata": {},
   "outputs": [],
   "source": [
    "def select_aliasID(conn, data):\n",
    "\n",
    "    cur = conn.cursor()\n",
    "    cur.execute(\"SELECT * FROM datahanet WHERE aliasID=?\", (data,))\n",
    "\n",
    "    rows = cur.fetchall()\n",
    "    return rows\n",
    " \n",
    "    \n",
    "def select_personID(conn, data):\n",
    "\n",
    "    cur = conn.cursor()\n",
    "    cur.execute(\"SELECT * FROM datahanet WHERE personID=?\", (data,))\n",
    "\n",
    "    rows = cur.fetchall()\n",
    "    return rows"
   ]
  },
  {
   "cell_type": "code",
   "execution_count": 48,
   "id": "24c221b7-1c73-44a7-aafe-b4a02ae7937f",
   "metadata": {},
   "outputs": [
    {
     "name": "stdout",
     "output_type": "stream",
     "text": [
      "1. Query task by aliasID:\n",
      "https://static.hanet.ai/face/employee/7875/a83b6be9-3d90-4425-8b99-b1b6c78a7648.jpg\n",
      "1. Query task by personID:\n",
      "https://static.hanet.ai/face/employee/7875/a83b6be9-3d90-4425-8b99-b1b6c78a7648.jpg\n"
     ]
    }
   ],
   "source": [
    "conn = create_connection(path_database)\n",
    "with conn:\n",
    "    print(\"1. Query task by aliasID:\")\n",
    "    for row in select_aliasID(conn, str(8021)):\n",
    "        print(row[2]) \n",
    "    print(\"1. Query task by personID:\")\n",
    "    for row in select_personID(conn, str(2056962459106680824)):\n",
    "        print(row[2])\n"
   ]
  },
  {
   "cell_type": "code",
   "execution_count": null,
   "id": "e1173833-7267-4d0c-9025-4ac745f699a4",
   "metadata": {},
   "outputs": [],
   "source": []
  }
 ],
 "metadata": {
  "kernelspec": {
   "display_name": "Python 3 (ipykernel)",
   "language": "python",
   "name": "python3"
  },
  "language_info": {
   "codemirror_mode": {
    "name": "ipython",
    "version": 3
   },
   "file_extension": ".py",
   "mimetype": "text/x-python",
   "name": "python",
   "nbconvert_exporter": "python",
   "pygments_lexer": "ipython3",
   "version": "3.8.10"
  }
 },
 "nbformat": 4,
 "nbformat_minor": 5
}
