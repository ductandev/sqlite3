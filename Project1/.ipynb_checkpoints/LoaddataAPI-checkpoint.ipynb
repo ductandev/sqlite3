{
 "cells": [
  {
   "cell_type": "markdown",
   "id": "71a0b03e-4ecd-4e84-9676-9a19626a00d1",
   "metadata": {},
   "source": [
    "# Tổng quan sự án\n"
   ]
  },
  {
   "cell_type": "markdown",
   "id": "23b286ad-2b5a-4373-9640-49d04de34388",
   "metadata": {},
   "source": [
    "## 1. Download data from server"
   ]
  },
  {
   "cell_type": "code",
   "execution_count": 1,
   "id": "6262dea4-83d9-4574-b14a-4a7a80c15143",
   "metadata": {},
   "outputs": [],
   "source": [
    "from json  import dumps, dump, load \n",
    "from requests import  post"
   ]
  },
  {
   "cell_type": "code",
   "execution_count": 2,
   "id": "b0ab3304-bbe1-4247-ac15-c89a1af2469e",
   "metadata": {},
   "outputs": [],
   "source": [
    "urlqw = \"https://gateway.systemkul.com/api/Gateway/GetListPeopleByUnit\"\n",
    "string_post = \"66540EEE-61D6-48E2-B9B6-61BA0228B0FD\"\n",
    "string_unitCode = \"nguyenvancu\"\n",
    "\n",
    "string_infor = { \\\n",
    "    \"requestKey\": string_post, \\\n",
    "    \"unitCode\": string_unitCode \\\n",
    "    }"
   ]
  },
  {
   "cell_type": "code",
   "execution_count": 3,
   "id": "c2e2988b-1d83-46a6-bbd6-ff51360c1659",
   "metadata": {},
   "outputs": [],
   "source": [
    "r = post(urlqw,\\\n",
    "         data=dumps(string_infor),\\\n",
    "         headers={'Content-Type': 'application/json-patch+json', })\n",
    "data1 = r.json()\n",
    "with open(\"data3.json\", \"w\") as f:\n",
    "    dump(data1, f)"
   ]
  },
  {
   "cell_type": "markdown",
   "id": "1fdc09e4-4e4b-4b61-9103-d5e49566cc98",
   "metadata": {},
   "source": [
    "## 2. Read json of the system."
   ]
  },
  {
   "cell_type": "code",
   "execution_count": 4,
   "id": "ed078ed1-00a8-4f9a-9afd-b9108f1445ce",
   "metadata": {},
   "outputs": [],
   "source": [
    "f = open(\"data3.json\", \"r\")\n",
    "data = load(f)"
   ]
  },
  {
   "cell_type": "code",
   "execution_count": 5,
   "id": "061af613-f3f2-459d-b4dd-d4223c74624d",
   "metadata": {},
   "outputs": [
    {
     "data": {
      "text/plain": [
       "[{'aliasID': '9021',\n",
       "  'name': '9021',\n",
       "  'avatar': 'https://static.hanet.ai/face/employee/7875/a83b6be9-3d90-4425-8b99-b1b6c78a7648.jpg',\n",
       "  'title': '9021',\n",
       "  'personID': '2056962459106680832'},\n",
       " {'aliasID': '90210',\n",
       "  'name': '90210',\n",
       "  'avatar': 'https://static.hanet.ai/face/employee/7875/396d1f3d-d27c-494a-8f78-09ec84a679b2.jpg',\n",
       "  'title': '90210',\n",
       "  'personID': '2056962504729649152'},\n",
       " {'aliasID': '902101',\n",
       "  'name': '902101',\n",
       "  'avatar': 'https://static.hanet.ai/face/employee/7875/f3d42349-b31d-4a68-9e5b-97c6f319333c.jpg',\n",
       "  'title': '902101',\n",
       "  'personID': '2056962572159950848'}]"
      ]
     },
     "execution_count": 5,
     "metadata": {},
     "output_type": "execute_result"
    }
   ],
   "source": [
    "data[:3]"
   ]
  },
  {
   "cell_type": "markdown",
   "id": "968aa945-2cd3-4f76-918a-45544ef254fb",
   "metadata": {},
   "source": [
    "## 3. Check type in database"
   ]
  },
  {
   "cell_type": "code",
   "execution_count": 6,
   "id": "2f1ea3c6-6e19-460b-9814-b6fc1e2e5c72",
   "metadata": {},
   "outputs": [
    {
     "data": {
      "text/plain": [
       "['aliasID', 'name', 'avatar', 'title', 'personID']"
      ]
     },
     "execution_count": 6,
     "metadata": {},
     "output_type": "execute_result"
    }
   ],
   "source": [
    "keys_name = list(data[0].keys())\n",
    "keys_name"
   ]
  },
  {
   "cell_type": "code",
   "execution_count": 7,
   "id": "4eb96fe7-f65a-417b-bd01-15d48edf50aa",
   "metadata": {},
   "outputs": [
    {
     "data": {
      "text/plain": [
       "[str, str, str, str, str]"
      ]
     },
     "execution_count": 7,
     "metadata": {},
     "output_type": "execute_result"
    }
   ],
   "source": [
    "check_type = [type(data[0][str(w)]) for w in  keys_name] \n",
    "check_type"
   ]
  }
 ],
 "metadata": {
  "kernelspec": {
   "display_name": "Python 3 (ipykernel)",
   "language": "python",
   "name": "python3"
  },
  "language_info": {
   "codemirror_mode": {
    "name": "ipython",
    "version": 3
   },
   "file_extension": ".py",
   "mimetype": "text/x-python",
   "name": "python",
   "nbconvert_exporter": "python",
   "pygments_lexer": "ipython3",
   "version": "3.8.10"
  }
 },
 "nbformat": 4,
 "nbformat_minor": 5
}
