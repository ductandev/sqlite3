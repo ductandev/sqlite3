{
 "cells": [
  {
   "cell_type": "markdown",
   "id": "6600df58-dcf2-4dc6-8ff5-3b9164b2b7ac",
   "metadata": {},
   "source": [
    "# SQLite Python: Creating a New Database"
   ]
  },
  {
   "cell_type": "markdown",
   "id": "6368e7ae-a3f9-42be-87eb-0a7ef1560ed2",
   "metadata": {},
   "source": [
    "## Create a New Database"
   ]
  },
  {
   "cell_type": "code",
   "execution_count": 7,
   "id": "7a3f0573-c1a6-445d-af0f-ec62ad8d58a9",
   "metadata": {},
   "outputs": [],
   "source": [
    "import sqlite3\n",
    "from sqlite3 import Error"
   ]
  },
  {
   "cell_type": "code",
   "execution_count": 8,
   "id": "e81fca3b-84d5-4422-9ead-83e07f78b726",
   "metadata": {},
   "outputs": [],
   "source": [
    "def create_connection(db_file):\n",
    "    \"\"\" create a database connection to a SQLite database \"\"\"\n",
    "    conn = None\n",
    "    try:\n",
    "        conn = sqlite3.connect(db_file)\n",
    "        print(sqlite3.version)\n",
    "    except Error as e:\n",
    "        print(e)\n",
    "    finally:\n",
    "        if conn:\n",
    "            conn.close()"
   ]
  },
  {
   "cell_type": "code",
   "execution_count": 9,
   "id": "4ff13b67-6a36-4d8c-89e4-006e0a22e631",
   "metadata": {},
   "outputs": [
    {
     "name": "stdout",
     "output_type": "stream",
     "text": [
      "2.6.0\n"
     ]
    }
   ],
   "source": [
    "if __name__ == '__main__':\n",
    "    create_connection(r\"../pythonsqlite.db\")"
   ]
  },
  {
   "cell_type": "markdown",
   "id": "530600f7-3b45-4fcd-8a53-9ae9b241a822",
   "metadata": {},
   "source": [
    "First, we define a function called create_connection() that connects to an SQLite database specified by the database file db_file. Inside the function, we call the connect() function of the sqlite3 module.\n",
    "\n",
    "The connect() function opens a connection to an SQLite database. It returns a Connection object that represents the database. By using the Connection object, you can perform various database operations.\n",
    "\n",
    "In case an error occurs, we catch it within the try except block and display the error message. If everything is fine, we display the SQLite database version.\n",
    "\n",
    "It is a good programming practice that you should always close the database connection when you complete with it.\n",
    "\n",
    "Second, we pass the path of the database file to the create_connection() function to create the database. Note that the prefix r in the  r\"pythonsqlite.db\" instructs Python that we are passing a raw string."
   ]
  },
  {
   "cell_type": "markdown",
   "id": "f6564dbf-c674-4884-bf3c-adec4942deb9",
   "metadata": {},
   "source": [
    "## Create a New database in the memory"
   ]
  },
  {
   "cell_type": "code",
   "execution_count": 4,
   "id": "9cb4d070-287e-4dd6-bbe2-2d0344ff0708",
   "metadata": {},
   "outputs": [],
   "source": [
    "import sqlite3\n",
    "from sqlite3 import Error"
   ]
  },
  {
   "cell_type": "code",
   "execution_count": 5,
   "id": "f262e5fd-9508-46aa-ad0d-fe3d76dbb4a2",
   "metadata": {},
   "outputs": [],
   "source": [
    "def create_connection():\n",
    "    \"\"\" create a database connection to a database that resides\n",
    "        in the memory\n",
    "    \"\"\"\n",
    "    conn = None;\n",
    "    try:\n",
    "        conn = sqlite3.connect(':memory:')\n",
    "        print(sqlite3.version)\n",
    "    except Error as e:\n",
    "        print(e)\n",
    "    finally:\n",
    "        if conn:\n",
    "            conn.close()\n"
   ]
  },
  {
   "cell_type": "code",
   "execution_count": 6,
   "id": "098385c8-1f95-46ed-aeb9-afb182536e3d",
   "metadata": {},
   "outputs": [
    {
     "name": "stdout",
     "output_type": "stream",
     "text": [
      "2.6.0\n"
     ]
    }
   ],
   "source": [
    "if __name__ == '__main__':\n",
    "    create_connection()"
   ]
  },
  {
   "cell_type": "code",
   "execution_count": null,
   "id": "7295e972-d81c-4f8f-9926-458e06338cb4",
   "metadata": {},
   "outputs": [],
   "source": []
  }
 ],
 "metadata": {
  "kernelspec": {
   "display_name": "Python 3 (ipykernel)",
   "language": "python",
   "name": "python3"
  },
  "language_info": {
   "codemirror_mode": {
    "name": "ipython",
    "version": 3
   },
   "file_extension": ".py",
   "mimetype": "text/x-python",
   "name": "python",
   "nbconvert_exporter": "python",
   "pygments_lexer": "ipython3",
   "version": "3.8.10"
  }
 },
 "nbformat": 4,
 "nbformat_minor": 5
}
